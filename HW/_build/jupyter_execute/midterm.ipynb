{
 "cells": [
  {
   "cell_type": "markdown",
   "metadata": {},
   "source": [
    "# EBGN 594 Midterm 2024"
   ]
  },
  {
   "cell_type": "code",
   "execution_count": 1,
   "metadata": {
    "tags": [
     "hide-input"
    ]
   },
   "outputs": [],
   "source": [
    "\n",
    "# For reading data off the web\n",
    "import pandas_datareader.data as web\n",
    "import yfinance as yf\n",
    "\n",
    "# Numerical \n",
    "import pandas as pd\n",
    "import numpy as np\n",
    "\n",
    "# Statistics\n",
    "import statsmodels.api as sm\n",
    "from statsmodels.tsa.arima.model import ARIMA\n",
    "from statsmodels.regression.linear_model import OLS\n",
    "from scipy.stats import jarque_bera, skewtest, kurtosistest\n",
    "from statsmodels.tsa.stattools import adfuller as adf\n",
    "from statsmodels.stats.diagnostic import acorr_ljungbox\n",
    "from scipy import stats\n",
    "\n",
    "# Plotting \n",
    "from matplotlib import pyplot as plt\n",
    "from statsmodels.graphics.tsaplots import plot_acf, plot_pacf\n",
    "\n",
    "# Datetime\n",
    "from datetime import datetime\n",
    "\n",
    "# Warnings filtering\n",
    "import warnings"
   ]
  },
  {
   "cell_type": "code",
   "execution_count": 2,
   "metadata": {
    "tags": [
     "hide-input"
    ]
   },
   "outputs": [],
   "source": [
    "warnings.filterwarnings('ignore')"
   ]
  },
  {
   "cell_type": "code",
   "execution_count": 3,
   "metadata": {
    "tags": [
     "hide-input",
     "hide-output"
    ]
   },
   "outputs": [
    {
     "name": "stderr",
     "output_type": "stream",
     "text": [
      "\r",
      "[*********************100%%**********************]  1 of 1 completed"
     ]
    },
    {
     "name": "stderr",
     "output_type": "stream",
     "text": [
      "\n"
     ]
    },
    {
     "data": {
      "text/html": [
       "<div>\n",
       "<style scoped>\n",
       "    .dataframe tbody tr th:only-of-type {\n",
       "        vertical-align: middle;\n",
       "    }\n",
       "\n",
       "    .dataframe tbody tr th {\n",
       "        vertical-align: top;\n",
       "    }\n",
       "\n",
       "    .dataframe thead th {\n",
       "        text-align: right;\n",
       "    }\n",
       "</style>\n",
       "<table border=\"1\" class=\"dataframe\">\n",
       "  <thead>\n",
       "    <tr style=\"text-align: right;\">\n",
       "      <th></th>\n",
       "      <th>crypt</th>\n",
       "      <th>bei</th>\n",
       "      <th>oil</th>\n",
       "      <th>gold</th>\n",
       "    </tr>\n",
       "  </thead>\n",
       "  <tbody>\n",
       "    <tr>\n",
       "      <th>2016-10-03</th>\n",
       "      <td>6.418349</td>\n",
       "      <td>1.47</td>\n",
       "      <td>1.043804</td>\n",
       "      <td>7.177019</td>\n",
       "    </tr>\n",
       "    <tr>\n",
       "      <th>2016-10-04</th>\n",
       "      <td>6.414016</td>\n",
       "      <td>1.45</td>\n",
       "      <td>1.040277</td>\n",
       "      <td>7.143855</td>\n",
       "    </tr>\n",
       "    <tr>\n",
       "      <th>2016-10-05</th>\n",
       "      <td>6.418626</td>\n",
       "      <td>1.48</td>\n",
       "      <td>1.040277</td>\n",
       "      <td>7.142985</td>\n",
       "    </tr>\n",
       "    <tr>\n",
       "      <th>2016-10-06</th>\n",
       "      <td>6.416536</td>\n",
       "      <td>1.49</td>\n",
       "      <td>1.111858</td>\n",
       "      <td>7.130739</td>\n",
       "    </tr>\n",
       "    <tr>\n",
       "      <th>2016-10-07</th>\n",
       "      <td>6.426456</td>\n",
       "      <td>1.50</td>\n",
       "      <td>1.105257</td>\n",
       "      <td>7.130018</td>\n",
       "    </tr>\n",
       "  </tbody>\n",
       "</table>\n",
       "</div>"
      ],
      "text/plain": [
       "               crypt   bei       oil      gold\n",
       "2016-10-03  6.418349  1.47  1.043804  7.177019\n",
       "2016-10-04  6.414016  1.45  1.040277  7.143855\n",
       "2016-10-05  6.418626  1.48  1.040277  7.142985\n",
       "2016-10-06  6.416536  1.49  1.111858  7.130739\n",
       "2016-10-07  6.426456  1.50  1.105257  7.130018"
      ]
     },
     "execution_count": 3,
     "metadata": {},
     "output_type": "execute_result"
    }
   ],
   "source": [
    "# Define start and end dates\n",
    "startdate = \"2016-10-01\"\n",
    "enddate = \"2024-09-29\"\n",
    "\n",
    "# Fetch data from FRED and Yahoo Finance\n",
    "# Coinbase Bitcoin (CBBTCUSD), Break-even inflation (T5YIE), Henry Hub natural gas (DHHNGSP)\n",
    "bitcoin = web.DataReader('CBBTCUSD', 'fred', startdate, enddate)\n",
    "breakeven_inflation = web.DataReader('T5YIE', 'fred', startdate, enddate)\n",
    "nat_gas = web.DataReader('DHHNGSP', 'fred', startdate, enddate)\n",
    "\n",
    "# Fetch gold futures data from Yahoo Finance\n",
    "gold_futures = yf.download('GC=F', start=startdate, end=enddate)\n",
    "\n",
    "# Data Transformation\n",
    "# Log transformation of bitcoin and natural gas prices, and extracting gold adjusted close prices\n",
    "grd = pd.concat([\n",
    "    np.log(bitcoin['CBBTCUSD']),\n",
    "    breakeven_inflation['T5YIE'],\n",
    "    np.log(nat_gas['DHHNGSP']),\n",
    "    np.log(gold_futures['Adj Close'])\n",
    "], axis=1)\n",
    "\n",
    "# Removing missing values\n",
    "grd.columns = ['crypt', 'bei', 'oil', 'gold']\n",
    "grd = grd.dropna()\n",
    "\n",
    "# Define variables for analysis\n",
    "y = grd['crypt']\n",
    "dy = y.diff().dropna()\n",
    "\n",
    "x1 = grd['bei']\n",
    "dx1 = x1.diff().dropna()\n",
    "\n",
    "x2 = grd['oil']\n",
    "dx2 = x2.diff().dropna()\n",
    "\n",
    "x3 = grd['gold']\n",
    "dx3 = x3.diff().dropna()\n",
    "\n",
    "grd.head()"
   ]
  },
  {
   "cell_type": "markdown",
   "metadata": {},
   "source": [
    "1.\tProvide two reasons why we might work with the natural log of the cryptocurrency, energy, and gold price variables but not the inflation expectations variable. \n",
    "- **Using log returns allows us to model the continuous compounding growth of asset prices that fluctuate continuously in financial markets. In contrast, the break-even inflation rate represents an expected percentage rate, which does not exhibit continuous compounding behavior and is more cyclical in nature, making the log transformation less relevant.**\n",
    "- **Logging variables helps in analyzing their percentage changes over time, which is useful for normalizing price data that often have large variances and non-stationary behavior. However, the break-even inflation rate is already expressed in percentage terms, so logging the data may not add interpretability and could distort the data.**"
   ]
  },
  {
   "cell_type": "code",
   "execution_count": 4,
   "metadata": {
    "tags": [
     "hide-input"
    ]
   },
   "outputs": [
    {
     "data": {
      "image/png": "[encoded data removed]",
      "text/plain": [
       "<Figure size 1200x600 with 2 Axes>"
      ]
     },
     "metadata": {},
     "output_type": "display_data"
    }
   ],
   "source": [
    "# Plotting ACF and PACF of log gold prices\n",
    "fig, ax = plt.subplots(1, 2, figsize=(12, 6))\n",
    "plot_acf(x3, lags=10, ax=ax[0])\n",
    "plot_pacf(x3, lags=10, ax=ax[1])\n",
    "\n",
    "plt.tight_layout()\n",
    "plt.show()"
   ]
  },
  {
   "cell_type": "markdown",
   "metadata": {},
   "source": [
    " 2.\tThe ACF pattern of decay is quick and exponential or slow and linear (still significant after many lags)? **Slow and linear**. \n",
    " 3.\tThe PACF coefficient on the first lag is very close to what number? **1** . The PACF becomes insignificant after how many lags? **2**\n",
    " 4.\tWhat do these observations suggest about stationarity? **This suggests nonstationarity and that the data may require some sort of differencing**\n"
   ]
  },
  {
   "cell_type": "code",
   "execution_count": 5,
   "metadata": {
    "tags": [
     "hide-input"
    ]
   },
   "outputs": [
    {
     "name": "stdout",
     "output_type": "stream",
     "text": [
      "                               SARIMAX Results                                \n",
      "==============================================================================\n",
      "Dep. Variable:                   gold   No. Observations:                 1984\n",
      "Model:                          ARIMA   Log Likelihood                6498.290\n",
      "Date:                Mon, 14 Oct 2024   AIC                         -12992.580\n",
      "Time:                        13:11:45   BIC                         -12981.394\n",
      "Sample:                             0   HQIC                        -12988.471\n",
      "                               - 1984                                         \n",
      "Covariance Type:                  opg                                         \n",
      "==============================================================================\n",
      "                 coef    std err          z      P>|z|      [0.025      0.975]\n",
      "------------------------------------------------------------------------------\n",
      "const          0.0003      0.000      1.692      0.091   -5.52e-05       0.001\n",
      "sigma2      8.367e-05   1.52e-06     55.211      0.000    8.07e-05    8.66e-05\n",
      "===================================================================================\n",
      "Ljung-Box (L1) (Q):                   0.99   Jarque-Bera (JB):              1488.17\n",
      "Prob(Q):                              0.32   Prob(JB):                         0.00\n",
      "Heteroskedasticity (H):               1.72   Skew:                            -0.26\n",
      "Prob(H) (two-sided):                  0.00   Kurtosis:                         7.21\n",
      "===================================================================================\n",
      "\n",
      "Warnings:\n",
      "[1] Covariance matrix calculated using the outer product of gradients (complex-step).\n"
     ]
    }
   ],
   "source": [
    "# ARMA(0,0) of first order differences\n",
    "dx3_arma = ARIMA(dx3, order=(0,0,0)).fit()\n",
    "\n",
    "print(dx3_arma.summary())"
   ]
  },
  {
   "cell_type": "markdown",
   "metadata": {},
   "source": [
    "5.\tRegress dx3 (first differences of x3) on an intercept only (e.g., ARMA(0,0) with intercept), and use this to find that the average growth (or decline) rate of the price is about **0.03%**. "
   ]
  },
  {
   "cell_type": "code",
   "execution_count": 6,
   "metadata": {
    "tags": [
     "hide-input"
    ]
   },
   "outputs": [
    {
     "name": "stdout",
     "output_type": "stream",
     "text": [
      "dx3 skewness: SkewtestResult(statistic=-4.623964720445301, pvalue=3.7647392488080247e-06) \n",
      " dx3 kurtosis: KurtosistestResult(statistic=14.006266720815281, pvalue=1.427122339954551e-44) \n",
      " dx3 JB: SignificanceResult(statistic=1488.1687049945617, pvalue=0.0)\n"
     ]
    }
   ],
   "source": [
    "# Skewness\n",
    "dx3_skew = skewtest(dx3)\n",
    "# Kurtosis\n",
    "dx3_kurt = kurtosistest(dx3)\n",
    "# JB\n",
    "dx3_jb = jarque_bera(dx3)\n",
    "   \n",
    "print(f'dx3 skewness: {dx3_skew} \\n dx3 kurtosis: {dx3_kurt} \\n dx3 JB: {dx3_jb}')"
   ]
  },
  {
   "cell_type": "markdown",
   "metadata": {},
   "source": [
    " 6.\tThe t-value for the skewness test is **-4.624** and the p-value is **3.764e-06**. Therefore I **reject** (reject/fail to reject) the null hypothesis of symmetrical distribution. \n",
    " 7.\tThe t-value for the excess kurtosis test is **14.006** and the p-value is **1.427e-44**. Therefore I **reject** (reject/fail to reject) the null hypothesis of **zero excess kurtosis**.\n",
    " 8.\tThe value of the JB test statistic is **1488.17** and the p-value is **0.0**. Therefore I **reject** (reject/fail to reject) the null hypothesis of **normal distribution**.\n",
    " 9.\tThe formula for the JB test statistic is **$JB=\\frac{\\hat{S}^2(r)}{6/T} + \\frac{(\\hat{K}(r)-3)^2}{24/T}$**. This is distributed Chi-square with 2 degrees of freedom because **the test assesses the sum of squares of two normal random variables, so k=2 for a $\\Chi^k$ distribution in this case**.\n",
    " 10. Describe why the Box test and the JB test statistics are both compared to a Chi-square distribution.\n",
    "**Both of these tests are constructed by the sums of squared normal random variables, which is 2 for the case of the JB test, and some positive integer k for the Box test, and these random variables follow a Chi-squared distribution.**\n",
    " 11. Briefly compare and contrast the null and alternative hypothesis of the Box test vs. the JB test. \n",
    "**The null hypothesis of the JB test is that the data is normally dsitributed, with the alternative being that the data is not normally distributed. The null hypothesis of the Box test is that the lags up to some positive integer m are all 0, with the alternative being that not all lags are 0 and there is at least 1 significant autocorrelation. In other words, the JB test uses the moments of a distribution to test if it is normally distributed, and the Box test uses the autocorrelation function to detect serial autocorrelation in time-series data.**\n",
    " 12. If your test tells you that the data is not Normally distributed, what theorem tells you that estimated regression coefficients using the same type of data will still be Normally distributed across samples? Give a short intuitive explanation of how the theorem works. \n",
    "**The Central Limit Theorem ensures that these regression coefficients will converge to a normal distribution given a large enough sample size and small enough (finite) variance across all samples, even if the data being sampled is not normally distributed.**"
   ]
  },
  {
   "cell_type": "code",
   "execution_count": 7,
   "metadata": {
    "tags": [
     "hide-input"
    ]
   },
   "outputs": [
    {
     "name": "stdout",
     "output_type": "stream",
     "text": [
      "(-2.425345660824052, 0.3662333428348368, {'1%': -3.9633402937050963, '5%': -3.4127052046182866, '10%': -3.1283542258126102}, <statsmodels.stats.diagnostic.ResultsStore object at 0x000001F25FB86A90>)\n",
      "(-2.3077100913002098, 0.16949337035871576, 3, 1981, {'1%': -3.4336552971929506, '5%': -2.8630000946528655, '10%': -2.5675472932714394}, -6569.131902350535)\n",
      "Average Monthly Growth Rate: 4.79%\n"
     ]
    }
   ],
   "source": [
    "# Case 4\n",
    "y_adf4=adf(y,regression='ct',autolag='BIC',regresults=True)\n",
    "print(y_adf4)\n",
    "\n",
    "# Case 2 \n",
    "y_adf2 = adf(y,regression='c')\n",
    "print(y_adf2)\n",
    "\n",
    "# Growth rate\n",
    "grd.index = pd.to_datetime(grd.index)\n",
    "monthly_avg = grd.groupby([grd.index.year, grd.index.month]).mean()\n",
    "monthly_growth_rates = monthly_avg['crypt'].diff()\n",
    "average_growth_rate = monthly_growth_rates.mean() * 100\n",
    "print(f\"Average Monthly Growth Rate: {average_growth_rate:.2f}%\")\n",
    "\n"
   ]
  },
  {
   "cell_type": "code",
   "execution_count": 8,
   "metadata": {
    "tags": [
     "hide-input",
     "hide-output"
    ]
   },
   "outputs": [
    {
     "name": "stdout",
     "output_type": "stream",
     "text": [
      "                            OLS Regression Results                            \n",
      "==============================================================================\n",
      "Dep. Variable:                     dy   R-squared:                       0.004\n",
      "Model:                            OLS   Adj. R-squared:                  0.003\n",
      "Method:                 Least Squares   F-statistic:                     3.760\n",
      "Date:                Mon, 14 Oct 2024   Prob (F-statistic):             0.0235\n",
      "Time:                        13:11:45   Log-Likelihood:                 3340.5\n",
      "No. Observations:                1984   AIC:                            -6675.\n",
      "Df Residuals:                    1981   BIC:                            -6658.\n",
      "Df Model:                           2                                         \n",
      "Covariance Type:            nonrobust                                         \n",
      "==============================================================================\n",
      "                 coef    std err          t      P>|t|      [0.025      0.975]\n",
      "------------------------------------------------------------------------------\n",
      "const          0.0368      0.013      2.740      0.006       0.010       0.063\n",
      "y_lag1        -0.0042      0.002     -2.425      0.015      -0.008      -0.001\n",
      "t           5.158e-06   3.53e-06      1.462      0.144   -1.76e-06    1.21e-05\n",
      "==============================================================================\n",
      "Omnibus:                      457.404   Durbin-Watson:                   2.046\n",
      "Prob(Omnibus):                  0.000   Jarque-Bera (JB):             7515.295\n",
      "Skew:                          -0.629   Prob(JB):                         0.00\n",
      "Kurtosis:                      12.451   Cond. No.                     1.54e+04\n",
      "==============================================================================\n",
      "\n",
      "Notes:\n",
      "[1] Standard Errors assume that the covariance matrix of the errors is correctly specified.\n",
      "[2] The condition number is large, 1.54e+04. This might indicate that there are\n",
      "strong multicollinearity or other numerical problems.\n",
      "<F test: F=array([[4.32418027]]), p=0.004782619833466311, df_denom=1.98e+03, df_num=3>\n",
      "Critical value for Test 15: 2.6093944893990746\n",
      "<F test: F=array([[3.75959128]]), p=0.023459629317125454, df_denom=1.98e+03, df_num=2>\n",
      "Critical value for Test 16: 3.00026708743401\n",
      "                            OLS Regression Results                            \n",
      "==============================================================================\n",
      "Dep. Variable:                     dy   R-squared:                       0.003\n",
      "Model:                            OLS   Adj. R-squared:                  0.002\n",
      "Method:                 Least Squares   F-statistic:                     5.379\n",
      "Date:                Mon, 14 Oct 2024   Prob (F-statistic):             0.0205\n",
      "Time:                        13:11:45   Log-Likelihood:                 3339.4\n",
      "No. Observations:                1984   AIC:                            -6675.\n",
      "Df Residuals:                    1982   BIC:                            -6664.\n",
      "Df Model:                           1                                         \n",
      "Covariance Type:            nonrobust                                         \n",
      "==============================================================================\n",
      "                 coef    std err          t      P>|t|      [0.025      0.975]\n",
      "------------------------------------------------------------------------------\n",
      "const          0.0212      0.008      2.589      0.010       0.005       0.037\n",
      "y_lag1        -0.0020      0.001     -2.319      0.020      -0.004      -0.000\n",
      "==============================================================================\n",
      "Omnibus:                      466.886   Durbin-Watson:                   2.049\n",
      "Prob(Omnibus):                  0.000   Jarque-Bera (JB):             7474.833\n",
      "Skew:                          -0.662   Prob(JB):                         0.00\n",
      "Kurtosis:                      12.416   Cond. No.                         78.6\n",
      "==============================================================================\n",
      "\n",
      "Notes:\n",
      "[1] Standard Errors assume that the covariance matrix of the errors is correctly specified.\n",
      "<F test: F=array([[5.41461371]]), p=0.00451714456658825, df_denom=1.98e+03, df_num=2>\n"
     ]
    }
   ],
   "source": [
    "\n",
    "# Setting up for 15 and 16\n",
    "y_lag1 = y.shift(1)\n",
    "\n",
    "t = np.arange(len(y))  \n",
    "t_series = pd.Series(t, index=y.index)\n",
    "\n",
    "data_q15 = pd.DataFrame({\n",
    "    'dy': dy,\n",
    "    'y_lag1': y_lag1[dy.index],  # Align the lags with the diff\n",
    "    't': t_series[dy.index]  # Align time index with the diff, converted to pandas Series\n",
    "}).dropna()\n",
    "\n",
    "# Regression model for 15-16\n",
    "X = sm.add_constant(data_q15[['y_lag1', 't']])  \n",
    "y = data_q15['dy']\n",
    "\n",
    "model = sm.OLS(y, X).fit()\n",
    "print(model.summary())\n",
    "\n",
    "# Question 15\n",
    "joint_hypothesis_15 = model.wald_test('const = 0, y_lag1 = 0, t = 0')\n",
    "print(joint_hypothesis_15)\n",
    "alpha = 0.05\n",
    "df1 = 3 \n",
    "df2 = model.df_resid  \n",
    "critical_value_q15 = stats.f.ppf(1 - alpha, df1, df2)\n",
    "print(\"Critical value for Test 15:\", critical_value_q15)\n",
    "\n",
    "# Question 16\n",
    "joint_hypothesis_16 = model.wald_test('y_lag1 = 0, t = 0')\n",
    "print(joint_hypothesis_16)\n",
    "df1 = 2  \n",
    "critical_value_q16 = stats.f.ppf(1 - alpha, df1, df2)\n",
    "print(\"Critical value for Test 16:\", critical_value_q16)\n",
    "\n",
    "# Question 18\n",
    "X_q18 = sm.add_constant(data_q15[['y_lag1']])  \n",
    "model_q18 = sm.OLS(data_q15['dy'], X_q18).fit()\n",
    "print(model_q18.summary())\n",
    "test_q18_joint = model_q18.wald_test('const = 0, y_lag1 = 0')\n",
    "print(test_q18_joint)\n"
   ]
  },
  {
   "cell_type": "markdown",
   "metadata": {},
   "source": [
    "13.\tImplement the test for “Case 4” (intercept and trend). Using the BIC, the optimal number of lags of first differences for the ADF test is **0**. \n",
    "14.\tThe individual test statistic for a unit root is **-2.4253** and the critical value is **-3.4127**. Therefore I **fail to reject** (reject/fail to reject) the null hypothesis of **the data having a unit root**.\n",
    "15.\tThe joint test statistic for the unit root, the trend, and the intercept is **4.3284** and the critical value is **2.609**. \n",
    "16.\tThe joint test statistic for the unit root and the trend is **5.7128** and the critical value is **3.000**.\n",
    "17.\tWrite the equation of the ADF test you implemented and state the null and alternative hypotheses in terms of the coefficients here:\n",
    "\n",
    "\\begin{align*}\n",
    "\\Delta Y_t = \\alpha + \\beta_t + \\gamma Y_{t-1} + \\epsilon_t \\\\  \n",
    "H_0: \\quad \\gamma = 0 \\text{, or the data has a unit root} \\\\  \n",
    "H_a: \\quad \\gamma < 0 \\text{, or the data does not have a unit root}\n",
    "\\end{align*}\n",
    "\n",
    "18.\tImplement the test for “Case 2” (intercept and but no trend). The test statistic for the unit root is **-2.3077** and the critical value is **-2.8630**. The joint test statistic for the unit root and the intercept is **5.4146** and the critical value is **3.0003**. \n",
    "19.\tConsider the results in this series of questions. You can conclude that there **is**  a unit root with **trend** (drift/trend/both/neither).\n",
    "20.\tBased on all of this evidence, the average growth (or decline) rate of the series is about **4.79** percent per month. "
   ]
  },
  {
   "cell_type": "code",
   "execution_count": 9,
   "metadata": {
    "tags": [
     "hide-input"
    ]
   },
   "outputs": [
    {
     "name": "stdout",
     "output_type": "stream",
     "text": [
      "Statistic: 35.406612982736526, p-val: 0.22814644637913295\n"
     ]
    }
   ],
   "source": [
    "# LB-test for 30 lags\n",
    "ljb_dy = acorr_ljungbox(dy, lags=30)\n",
    "stat = ljb_dy['lb_stat'].values[-1]\n",
    "p = ljb_dy['lb_pvalue'].values[-1]\n",
    "print(f'Statistic: {stat}, p-val: {p}')"
   ]
  },
  {
   "cell_type": "markdown",
   "metadata": {},
   "source": [
    "21.\tFirst let’s find out if dy is autocorrelated. Conduct a Ljung-Box test on dy, jointly testing 30 autocorrelations. The value of the test statistic is **35.407** and the p-value of the test is **0.228**. Regarding autocorrelation, we conclude **we fail to reject the null hypothesis that the data is independently distributed, or alternatively, the data is not serially correlated for 30 lags.**.\n",
    "22.\tProvide the recipe, i.e., list the sequence of operations for finding the optimal ARMA model for a series like dy in order to “whiten” the residuals. \n",
    "\n",
    "**1. Initial model selection - check for stationarity using metrics such as the ADF test, and use the ACF/PACF plots to determine optimal p/q parameters for an ARMA model.** \n",
    "\n",
    "**2. Fit multiple ARMA models - in this case, fit models from ARMA(0,0) to ARMA(12,12)**\n",
    "\n",
    "**3. Evaluate models - use AIC or BIC to determine goodness-of-fit and choose models with minimized ICs. Perform diagnostics (such as the LB test) on residuals to ensure there is no autocorrelation in the errors.**\n",
    "\n",
    "**4. Optimization - Choose model with best parameters and iteratively tune it.**\n"
   ]
  },
  {
   "cell_type": "code",
   "execution_count": 10,
   "metadata": {
    "tags": [
     "hide-input"
    ]
   },
   "outputs": [
    {
     "name": "stdout",
     "output_type": "stream",
     "text": [
      "                               SARIMAX Results                                \n",
      "==============================================================================\n",
      "Dep. Variable:                  crypt   No. Observations:                 1984\n",
      "Model:                 ARIMA(1, 0, 1)   Log Likelihood                3334.045\n",
      "Date:                Mon, 14 Oct 2024   AIC                          -6662.090\n",
      "Time:                        13:11:45   BIC                          -6645.311\n",
      "Sample:                             0   HQIC                         -6655.926\n",
      "                               - 1984                                         \n",
      "Covariance Type:                  opg                                         \n",
      "==============================================================================\n",
      "                 coef    std err          z      P>|z|      [0.025      0.975]\n",
      "------------------------------------------------------------------------------\n",
      "ar.L1          0.3164     11.891      0.027      0.979     -22.990      23.623\n",
      "ma.L1         -0.3177     11.885     -0.027      0.979     -23.611      22.976\n",
      "sigma2         0.0020   2.93e-05     69.231      0.000       0.002       0.002\n",
      "===================================================================================\n",
      "Ljung-Box (L1) (Q):                   0.98   Jarque-Bera (JB):              7347.99\n",
      "Prob(Q):                              0.32   Prob(JB):                         0.00\n",
      "Heteroskedasticity (H):               0.53   Skew:                            -0.64\n",
      "Prob(H) (two-sided):                  0.00   Kurtosis:                        12.34\n",
      "===================================================================================\n",
      "\n",
      "Warnings:\n",
      "[1] Covariance matrix calculated using the outer product of gradients (complex-step).\n"
     ]
    },
    {
     "data": {
      "image/png": "[encoded data removed]",
      "text/plain": [
       "<Figure size 1200x600 with 2 Axes>"
      ]
     },
     "metadata": {},
     "output_type": "display_data"
    },
    {
     "name": "stdout",
     "output_type": "stream",
     "text": [
      "Forecasted val 6 days out:  -2.8101015440196434e-08\n"
     ]
    }
   ],
   "source": [
    "# ARMA(1,1) model with no intercept\n",
    "arma_p23 = ARIMA(dy,order=(1,0,1),trend='n').fit()\n",
    "print(arma_p23.summary())\n",
    "\n",
    "# Residual ACF\n",
    "resids = arma_p23.resid\n",
    "fig, ax = plt.subplots(1, 2, figsize=(12, 6))\n",
    "plot_acf(resids,lags=30,ax=ax[0])\n",
    "plot_pacf(resids,lags=30,ax=ax[1])\n",
    "plt.tight_layout()\n",
    "plt.show()\n",
    "\n",
    "# Forecast\n",
    "forecast=arma_p23.forecast(steps=6)\n",
    "print('Forecasted val 6 days out: ', forecast.iloc[-1])"
   ]
  },
  {
   "cell_type": "markdown",
   "metadata": {},
   "source": [
    "23.\tPlease estimate an ARMA(1,1) with no intercept for dy (regardless of whether this is “optimal”) and write the equation for your model in AR and MA lag polynomial form here, using the numerical estimates of the coefficients:\n",
    "\n",
    "\\begin{align*}\n",
    "(1-.3164L)dy_t=(1+.3177L)\\epsilon_t\n",
    "\\end{align*}\n",
    "\n",
    "24.\tLooking at the ACF of the residuals of your ARMA(1,1), are there any seriously concerning autocorrelations (other than a few tiny ones)?\n",
    "\n",
    "**No. There are no significant spikes outside of the 95% confidence intervals, so there is no real concern with autocorrelation in the residuals.**\n",
    "\n",
    "25.\tUsing the ARMA(1,1), the forecasted return six days from the last observation is **-2.8101015440196434e-08**. \n"
   ]
  },
  {
   "cell_type": "code",
   "execution_count": 11,
   "metadata": {
    "tags": [
     "hide-input"
    ]
   },
   "outputs": [
    {
     "name": "stdout",
     "output_type": "stream",
     "text": [
      "                            OLS Regression Results                            \n",
      "==============================================================================\n",
      "Dep. Variable:                  crypt   R-squared:                       0.014\n",
      "Model:                            OLS   Adj. R-squared:                  0.012\n",
      "Method:                 Least Squares   F-statistic:                     9.161\n",
      "Date:                Mon, 14 Oct 2024   Prob (F-statistic):           5.09e-06\n",
      "Time:                        13:11:45   Log-Likelihood:                 3350.4\n",
      "No. Observations:                1984   AIC:                            -6693.\n",
      "Df Residuals:                    1980   BIC:                            -6670.\n",
      "Df Model:                           3                                         \n",
      "Covariance Type:            nonrobust                                         \n",
      "==============================================================================\n",
      "                 coef    std err          t      P>|t|      [0.025      0.975]\n",
      "------------------------------------------------------------------------------\n",
      "const          0.0022      0.001      2.163      0.031       0.000       0.004\n",
      "bei            0.0675      0.024      2.780      0.005       0.020       0.115\n",
      "oil            0.0038      0.012      0.315      0.753      -0.020       0.028\n",
      "gold           0.4627      0.110      4.200      0.000       0.247       0.679\n",
      "==============================================================================\n",
      "Omnibus:                      414.863   Durbin-Watson:                   2.063\n",
      "Prob(Omnibus):                  0.000   Jarque-Bera (JB):             6040.536\n",
      "Skew:                          -0.559   Prob(JB):                         0.00\n",
      "Kurtosis:                      11.475   Cond. No.                         110.\n",
      "==============================================================================\n",
      "\n",
      "Notes:\n",
      "[1] Standard Errors assume that the covariance matrix of the errors is correctly specified.\n",
      "t-stat for dx2:  -83.01666666666667\n",
      "F-value: 8.861730044856083, p-value: 0.0001474084281147922, Degrees of freedom difference: 2.0\n",
      "                            OLS Regression Results                            \n",
      "==============================================================================\n",
      "Dep. Variable:                  crypt   R-squared:                       0.014\n",
      "Model:                            OLS   Adj. R-squared:                  0.012\n",
      "Method:                 Least Squares   F-statistic:                     5.977\n",
      "Date:                Mon, 14 Oct 2024   Prob (F-statistic):           0.000471\n",
      "Time:                        13:11:45   Log-Likelihood:                 3350.4\n",
      "No. Observations:                1984   AIC:                            -6693.\n",
      "Df Residuals:                    1980   BIC:                            -6670.\n",
      "Df Model:                           3                                         \n",
      "Covariance Type:                  HAC                                         \n",
      "==============================================================================\n",
      "                 coef    std err          t      P>|t|      [0.025      0.975]\n",
      "------------------------------------------------------------------------------\n",
      "const          0.0022      0.001      2.019      0.044    6.18e-05       0.004\n",
      "bei            0.0675      0.028      2.421      0.016       0.013       0.122\n",
      "oil            0.0038      0.015      0.254      0.799      -0.026       0.033\n",
      "gold           0.4627      0.124      3.730      0.000       0.219       0.706\n",
      "==============================================================================\n",
      "Omnibus:                      414.863   Durbin-Watson:                   2.063\n",
      "Prob(Omnibus):                  0.000   Jarque-Bera (JB):             6040.536\n",
      "Skew:                          -0.559   Prob(JB):                         0.00\n",
      "Kurtosis:                      11.475   Cond. No.                         110.\n",
      "==============================================================================\n",
      "\n",
      "Notes:\n",
      "[1] Standard Errors are heteroscedasticity and autocorrelation robust (HAC) using 12 lags and without small sample correction\n",
      "t_stat of dx_2 with HAC:  -66.41333333333334\n"
     ]
    }
   ],
   "source": [
    "# Combine the differenced data into a single DataFrame and drop any rows with NaNs\n",
    "data = pd.concat([dy, dx1, dx2, dx3], axis=1).dropna()\n",
    "\n",
    "Y = data['crypt']\n",
    "X = data[['bei', 'oil', 'gold']]\n",
    "X = sm.add_constant(X)\n",
    "\n",
    "model = sm.OLS(Y, X).fit()\n",
    "print(model.summary())\n",
    "\n",
    "# 29\n",
    "t_dx2 = (.0038-1)/.012\n",
    "print('t-stat for dx2: ',t_dx2)\n",
    "\n",
    "# 32 \n",
    "X_restricted = sm.add_constant(data['bei'])\n",
    "restricted = sm.OLS(Y,X_restricted).fit()\n",
    "\n",
    "f_test = model.compare_f_test(restricted)\n",
    "\n",
    "print(f'F-value: {f_test[0]}, p-value: {f_test[1]}, Degrees of freedom difference: {f_test[2]}')\n",
    "\n",
    "# 35\n",
    "ols_hac = model.get_robustcov_results(cov_type='HAC',maxlags=12)\n",
    "print(ols_hac.summary())\n",
    "\n",
    "t_dx2_hac = (.0038-1)/.015\n",
    "\n",
    "print('t_stat of dx_2 with HAC: ', t_dx2_hac)\n"
   ]
  },
  {
   "cell_type": "markdown",
   "metadata": {},
   "source": [
    "26.\tThe estimated regression equation is (please write or type out the equation):\n",
    "\n",
    "\\begin{align*}\n",
    "dy = .0022 + .0675 dx_1 + .0038 dx_2 + .4627 dx_3 + e_t\n",
    "\\end{align*}\n",
    "\n",
    "27.\tPlease provide a written interpretation of the numerical value of the estimated dx2 coefficient. How much of the percentage change in oil prices get passed through to the percentage change in the cryptocurrency price?\n",
    "**Holding all else equal, a 1% increase in oil prices induces a .0038% change in Bitcoin price on average.**\n",
    "\n",
    "28.\tUsing regular standard errors, the t-statistic for the Null Hypothesis that the dx2 coefficient is equal to ZERO is .315. Therefore I **fail to reject**  the Null.\n",
    "\n",
    "29.\tSuppose you thought changes in energy (oil) prices should get passed through one-for-one to changes in crypto. Using regular standard errors, the t-statistic for the Null Hypothesis that the dx2 coefficient is equal to ONE is **83.017**. Therefore I **reject** the Null. \n",
    "\n",
    "30.\tThe key assumption for the dx2 coefficient estimate to be unbiased is:\n",
    "**exogeneity, meaning that it is uncorrelated with the error term**\n",
    "\n",
    "31.\tName one reason this assumption may fail in this example:\n",
    "\n",
    "**During recessionary periods, consumer income will decrease, leading to decreased demand in both Bitcoin and Oil. These prices could be influenced by the same or similar economic factors, like decreased consumer expenditure, which means they may be correlated about some unobserved process, which would violate the assumption of exogeneity.**\n",
    "\n",
    "32.\tUsing the regular “plain vanilla” covariance matrix, conduct an F-test for the joint significance of dx2 and dx3 in explaining dy. The calculated F-statistic is **8.861730044856083** and the p-value is **0.0001474084281147922**. Therefore I **reject** the Null. \n",
    "\n",
    "33.\tFormally state the null and alternative hypotheses of the F-test from the previous question. \n",
    "\n",
    "\\begin{align*}\n",
    "H_0: \\beta_2=\\beta_3=0 \\text{ (i.e. dx2 and dx3 have no effect on the change of Bitcoin prices)} \\\\ \n",
    "H_a: \\beta_2 \\neq 0 \\text{ and/or } \\beta_3 \\neq 0 \\text{ (i.e. either dx2 or dx3 (or both) have significant effect on Bitcoin prices)}\n",
    "\\end{align*}\n",
    "\n",
    "34.\tThe key assumptions for the dx2 coefficient estimate to be efficient (minimum variance) are:\n",
    "\n",
    "**In order for dx2 to be BLUE it must have linear parameters, the data must be obtained from a random sample, there is no perfect multicollinearity with other independent variables, dx2 is exogenous, the errors must be homoskedastic, and there is no autocorrelation in the errors.**\n",
    "\n",
    "\n",
    "\n",
    "\n",
    "35.\tThe HAC standard error for the dx2 coefficient is **.0038**, and the t-statistic for the Null Hypothesis that this coefficient is equal to ONE using this standard error is **.015**. Therefore I now **reject** the Null using HAC standard errors. \n",
    "\n",
    "\n",
    "36.\tIf the assumptions you listed for efficiency fail, which part or parts (if any or all) of the assumptions are addressed by HAC standard errors?\n",
    "\n",
    "**HAC errors help correct for heteroskedastic standard errors and autocorrelated standard errors**\n",
    "\n"
   ]
  },
  {
   "cell_type": "code",
   "execution_count": 12,
   "metadata": {
    "tags": [
     "hide-input"
    ]
   },
   "outputs": [
    {
     "name": "stdout",
     "output_type": "stream",
     "text": [
      "Statistic:  13.573222841300527 p-val:  0.1933630233766915\n"
     ]
    },
    {
     "name": "stdout",
     "output_type": "stream",
     "text": [
      "                               SARIMAX Results                                \n",
      "==============================================================================\n",
      "Dep. Variable:                      y   No. Observations:                 1984\n",
      "Model:                 ARIMA(1, 0, 1)   Log Likelihood                3351.495\n",
      "Date:                Mon, 14 Oct 2024   AIC                          -6694.991\n",
      "Time:                        13:11:46   BIC                          -6672.619\n",
      "Sample:                             0   HQIC                         -6686.773\n",
      "                               - 1984                                         \n",
      "Covariance Type:                  opg                                         \n",
      "==============================================================================\n",
      "                 coef    std err          z      P>|z|      [0.025      0.975]\n",
      "------------------------------------------------------------------------------\n",
      "const      -2.592e-06      0.001     -0.003      0.998      -0.002       0.002\n",
      "ar.L1         -0.0647      0.601     -0.108      0.914      -1.243       1.114\n",
      "ma.L1          0.0332      0.602      0.055      0.956      -1.147       1.213\n",
      "sigma2         0.0020   2.83e-05     70.598      0.000       0.002       0.002\n",
      "===================================================================================\n",
      "Ljung-Box (L1) (Q):                   0.00   Jarque-Bera (JB):              6081.64\n",
      "Prob(Q):                              0.96   Prob(JB):                         0.00\n",
      "Heteroskedasticity (H):               0.52   Skew:                            -0.56\n",
      "Prob(H) (two-sided):                  0.00   Kurtosis:                        11.50\n",
      "===================================================================================\n",
      "\n",
      "Warnings:\n",
      "[1] Covariance matrix calculated using the outer product of gradients (complex-step).\n"
     ]
    },
    {
     "name": "stdout",
     "output_type": "stream",
     "text": [
      "New coefficient for dx2: 0.003817809412586077\n",
      "New standard error for dx2: 0.010256514078710364\n"
     ]
    }
   ],
   "source": [
    "# LB test on model resids\n",
    "model_residuals = model.resid\n",
    "model_ljb = acorr_ljungbox(model_residuals, lags=10)\n",
    "print('Statistic: ',model_ljb['lb_stat'].values[-1], 'p-val: ', model_ljb['lb_pvalue'].values[-1])\n",
    "\n",
    "# Model w ARMA\n",
    "arma_resids = ARIMA(model_residuals,order=(1,0,1)).fit()\n",
    "print(arma_resids.summary())\n",
    "\n",
    "arma_model = ARIMA(Y, exog=X, order=(1, 0, 1), trend='n').fit()\n",
    "\n",
    "new_coeff_dx2 = arma_model.params['oil']\n",
    "new_se_dx2 = arma_model.bse['oil']\n",
    "print(f\"New coefficient for dx2: {new_coeff_dx2}\")\n",
    "print(f\"New standard error for dx2: {new_se_dx2}\")"
   ]
  },
  {
   "cell_type": "markdown",
   "metadata": {},
   "source": [
    "**Note that I'm using the original model with plain standard errors for these next questions since it isn't specified** \n",
    "\n",
    "37.\tConduct a Portmanteau/Box test on the residuals of the model, jointly testing 10 autocorrelations. The value of the test statistic is **13.57322** and the p-value of the test is **.19336**. Therefore I **fail to reject** (reject/fail to reject) the Null of zero autocorrelation.\n",
    "\n",
    "38.\tReestimate the model of dy as a linear function of dx1, dx2, and dx3 but this time please include an ARMA(1,1) model for the residuals. The new coefficient and standard error on dx2 are **New coefficient for dx2: 0.003817809412586077\n",
    "New standard error for dx2: 0.010256514078710364**. Therefore I now **fail to reject**  the Null Hypothesis that the dx2 coefficient is equal to ZERO. \n",
    "\n",
    "39.\tWhat can you conclude about the causal vs. predictive/correlational relationship between cryptocurrency and energy price fluctuations, inflation expectations, and gold? \n",
    "\n",
    "**Oil in this analysis seems to have little correlation or statistical significance in predicting Bitcoin prices. For inflation, we have limited evidence that there is any strong correlational/causal relationship with Bitcoin prices, so we cannot say it is statistically significant to Bitcoin prices. Gold prices, however, have a more statistically significant relationship with Bitcoin. The prices are positively correlated, but in order for us to infer any sort of causal relationship between the two variables, more analysis is required to confirm that these prices are indeed exogenous and are not jointly determined by an outside process.**\n",
    "\n",
    "40.\tNow please use a Bai & Perron test for structural breaks in your regression equation of dy on dx1, dx2, and dx3 (i.e. you can use the strucchange package in R). The optimal number of breaks that minimizes the BIC is **0**. These breaks occur at dates **N/A**. \n",
    "\n",
    "**An R file will be included for 40 since there is no Bai-Perron test built into Python**\n"
   ]
  }
 ],
 "metadata": {
  "kernelspec": {
   "display_name": "base",
   "language": "python",
   "name": "python3"
  },
  "language_info": {
   "codemirror_mode": {
    "name": "ipython",
    "version": 3
   },
   "file_extension": ".py",
   "mimetype": "text/x-python",
   "name": "python",
   "nbconvert_exporter": "python",
   "pygments_lexer": "ipython3",
   "version": "3.11.7"
  }
 },
 "nbformat": 4,
 "nbformat_minor": 2
}